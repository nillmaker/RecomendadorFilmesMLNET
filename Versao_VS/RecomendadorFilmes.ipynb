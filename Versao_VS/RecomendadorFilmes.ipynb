{
 "cells": [
  {
   "cell_type": "code",
   "execution_count": 1,
   "id": "d160a078",
   "metadata": {},
   "outputs": [
    {
     "data": {
      "text/html": [
       "\r\n",
       "<div>\r\n",
       "    <div id='dotnet-interactive-this-cell-15228.Microsoft.DotNet.Interactive.Http.HttpPort' style='display: none'>\r\n",
       "        The below script needs to be able to find the current output cell; this is an easy method to get it.\r\n",
       "    </div>\r\n",
       "    <script type='text/javascript'>\r\n",
       "async function probeAddresses(probingAddresses) {\r\n",
       "    function timeout(ms, promise) {\r\n",
       "        return new Promise(function (resolve, reject) {\r\n",
       "            setTimeout(function () {\r\n",
       "                reject(new Error('timeout'))\r\n",
       "            }, ms)\r\n",
       "            promise.then(resolve, reject)\r\n",
       "        })\r\n",
       "    }\r\n",
       "\r\n",
       "    if (Array.isArray(probingAddresses)) {\r\n",
       "        for (let i = 0; i < probingAddresses.length; i++) {\r\n",
       "\r\n",
       "            let rootUrl = probingAddresses[i];\r\n",
       "\r\n",
       "            if (!rootUrl.endsWith('/')) {\r\n",
       "                rootUrl = `${rootUrl}/`;\r\n",
       "            }\r\n",
       "\r\n",
       "            try {\r\n",
       "                let response = await timeout(1000, fetch(`${rootUrl}discovery`, {\r\n",
       "                    method: 'POST',\r\n",
       "                    cache: 'no-cache',\r\n",
       "                    mode: 'cors',\r\n",
       "                    timeout: 1000,\r\n",
       "                    headers: {\r\n",
       "                        'Content-Type': 'text/plain'\r\n",
       "                    },\r\n",
       "                    body: probingAddresses[i]\r\n",
       "                }));\r\n",
       "\r\n",
       "                if (response.status == 200) {\r\n",
       "                    return rootUrl;\r\n",
       "                }\r\n",
       "            }\r\n",
       "            catch (e) { }\r\n",
       "        }\r\n",
       "    }\r\n",
       "}\r\n",
       "\r\n",
       "function loadDotnetInteractiveApi() {\r\n",
       "    probeAddresses([\"http://172.16.3.3:1003/\", \"http://192.168.15.2:1003/\", \"http://127.0.0.1:1003/\"])\r\n",
       "        .then((root) => {\r\n",
       "        // use probing to find host url and api resources\r\n",
       "        // load interactive helpers and language services\r\n",
       "        let dotnetInteractiveRequire = require.config({\r\n",
       "        context: '15228.Microsoft.DotNet.Interactive.Http.HttpPort',\r\n",
       "                paths:\r\n",
       "            {\r\n",
       "                'dotnet-interactive': `${root}resources`\r\n",
       "                }\r\n",
       "        }) || require;\r\n",
       "\r\n",
       "            window.dotnetInteractiveRequire = dotnetInteractiveRequire;\r\n",
       "\r\n",
       "            window.configureRequireFromExtension = function(extensionName, extensionCacheBuster) {\r\n",
       "                let paths = {};\r\n",
       "                paths[extensionName] = `${root}extensions/${extensionName}/resources/`;\r\n",
       "                \r\n",
       "                let internalRequire = require.config({\r\n",
       "                    context: extensionCacheBuster,\r\n",
       "                    paths: paths,\r\n",
       "                    urlArgs: `cacheBuster=${extensionCacheBuster}`\r\n",
       "                    }) || require;\r\n",
       "\r\n",
       "                return internalRequire\r\n",
       "            };\r\n",
       "        \r\n",
       "            dotnetInteractiveRequire([\r\n",
       "                    'dotnet-interactive/dotnet-interactive'\r\n",
       "                ],\r\n",
       "                function (dotnet) {\r\n",
       "                    dotnet.init(window);\r\n",
       "                },\r\n",
       "                function (error) {\r\n",
       "                    console.log(error);\r\n",
       "                }\r\n",
       "            );\r\n",
       "        })\r\n",
       "        .catch(error => {console.log(error);});\r\n",
       "    }\r\n",
       "\r\n",
       "// ensure `require` is available globally\r\n",
       "if ((typeof(require) !==  typeof(Function)) || (typeof(require.config) !== typeof(Function))) {\r\n",
       "    let require_script = document.createElement('script');\r\n",
       "    require_script.setAttribute('src', 'https://cdnjs.cloudflare.com/ajax/libs/require.js/2.3.6/require.min.js');\r\n",
       "    require_script.setAttribute('type', 'text/javascript');\r\n",
       "    \r\n",
       "    \r\n",
       "    require_script.onload = function() {\r\n",
       "        loadDotnetInteractiveApi();\r\n",
       "    };\r\n",
       "\r\n",
       "    document.getElementsByTagName('head')[0].appendChild(require_script);\r\n",
       "}\r\n",
       "else {\r\n",
       "    loadDotnetInteractiveApi();\r\n",
       "}\r\n",
       "\r\n",
       "    </script>\r\n",
       "</div>"
      ]
     },
     "metadata": {},
     "output_type": "display_data"
    },
    {
     "data": {
      "text/html": [
       "<div><div></div><div></div><div><strong>Installed Packages</strong><ul><li><span>Microsoft.ML, 1.3.1</span></li><li><span>Microsoft.ML.Recommender, 0.15.1</span></li></ul></div></div>"
      ]
     },
     "metadata": {},
     "output_type": "display_data"
    }
   ],
   "source": [
    "#r \"nuget:Microsoft.ML,1.3.1\"\n",
    "#r \"nuget:Microsoft.ML.Recommender, 0.15.1\"\n",
    "#r \"nuget:XPlot.Plotly;\""
   ]
  },
  {
   "cell_type": "code",
   "execution_count": 2,
   "id": "7323caf0",
   "metadata": {},
   "outputs": [],
   "source": [
    "using System;\n",
    "using System.IO;\n",
    "using Microsoft.ML;\n",
    "using Microsoft.ML.Data;\n",
    "using Microsoft.ML.Trainers;\n",
    "using XPlot.Plotly;"
   ]
  },
  {
   "cell_type": "code",
   "execution_count": 3,
   "id": "1a4659fe",
   "metadata": {},
   "outputs": [
    {
     "name": "stderr",
     "output_type": "stream",
     "text": [
      "\r\n",
      "(4,18): warning CS0649: Campo \"MovieRating.userId\" nunca é atribuído e sempre terá seu valor padrão 0\r\n",
      "\r\n",
      "(8,18): warning CS0649: Campo \"MovieRating.Label\" nunca é atribuído e sempre terá seu valor padrão 0\r\n",
      "\r\n",
      "(6,18): warning CS0649: Campo \"MovieRating.movieId\" nunca é atribuído e sempre terá seu valor padrão 0\r\n",
      "\r\n"
     ]
    }
   ],
   "source": [
    "public class MovieRating\n",
    "{\n",
    "    [LoadColumn(0)]\n",
    "    public float userId;\n",
    "    [LoadColumn(1)]\n",
    "    public float movieId;\n",
    "    [LoadColumn(2)]\n",
    "    public float Label;\n",
    "}"
   ]
  },
  {
   "cell_type": "code",
   "execution_count": 4,
   "id": "b9f9c587",
   "metadata": {},
   "outputs": [
    {
     "name": "stderr",
     "output_type": "stream",
     "text": [
      "\r\n",
      "(3,18): warning CS0649: Campo \"MovieRatingPrediction.Label\" nunca é atribuído e sempre terá seu valor padrão 0\r\n",
      "\r\n",
      "(4,18): warning CS0649: Campo \"MovieRatingPrediction.Score\" nunca é atribuído e sempre terá seu valor padrão 0\r\n",
      "\r\n"
     ]
    }
   ],
   "source": [
    "public class MovieRatingPrediction\n",
    "{\n",
    "    public float Label;\n",
    "    public float Score;\n",
    "}"
   ]
  },
  {
   "cell_type": "code",
   "execution_count": 5,
   "id": "4ab3f902",
   "metadata": {},
   "outputs": [],
   "source": [
    "// Conceitos principais em ML.NET:  Data, Transformadores e estimadores. \n",
    "\n",
    "//Para treinar os dados, a máquina exite que os dados estejam em determinado formado. \n",
    "//Os Transformers são usados para transformar os dados de tabela em um formato compatível. \n",
    "\n",
    "//DATA -----> TRANFORMER ------> TRANSFORMED DATA\n",
    "\n",
    "//Para criar esses Transformer você utilza os Estimators.\n",
    "//Eles usam dados e retornam Transformers. \n",
    "\n",
    "//DATA -----> ESTIMATOR ----> TRANFORMER\n",
    "\n",
    "//O algoritmo de treinamento de recomendação (por exemplo) que vai ser utilizado para treinar o modelo é um exemplo\n",
    "//de Estimator."
   ]
  },
  {
   "cell_type": "code",
   "execution_count": 6,
   "id": "25c3db9c",
   "metadata": {},
   "outputs": [],
   "source": [
    "// Carrega os dados\n",
    "public static (IDataView training, IDataView test) LoadData(MLContext mlContext)\n",
    "{\n",
    "    // Carrega os dados de treino e teste usando os paths\n",
    "    var trainingDataPath = Path.Combine(Environment.CurrentDirectory, \"Data\", \"recommendation-ratings-train.csv\");\n",
    "    var testDataPath = Path.Combine(Environment.CurrentDirectory, \"Data\", \"recommendation-ratings-test.csv\");\n",
    "\n",
    "    IDataView trainingDataView = mlContext.Data.LoadFromTextFile<MovieRating>(trainingDataPath, hasHeader: true, separatorChar: ',');\n",
    "    IDataView testDataView = mlContext.Data.LoadFromTextFile<MovieRating>(testDataPath, hasHeader: true, separatorChar: ',');\n",
    "\n",
    "    Console.WriteLine(trainingDataView.GetRowCount().ToString());\n",
    "    Console.WriteLine(testDataView.GetRowCount().ToString());\n",
    "\n",
    "    return (trainingDataView, testDataView);\n",
    "}"
   ]
  },
  {
   "cell_type": "code",
   "execution_count": 7,
   "id": "1be09269",
   "metadata": {},
   "outputs": [],
   "source": [
    "// Cria e treina o modelo\n",
    "public static ITransformer BuildAndTrainModel(MLContext mlContext, IDataView trainingDataView)\n",
    "{\n",
    "    // Adiciona os dados de Transformes\n",
    "    IEstimator<ITransformer> estimator = mlContext.Transforms.Conversion.MapValueToKey(outputColumnName: \"userIdEncoded\", inputColumnName: \"userId\")\n",
    "        .Append(mlContext.Transforms.Conversion.MapValueToKey(outputColumnName: \"movieIdEncoded\", inputColumnName: \"movieId\"));\n",
    "\n",
    "    var options = new MatrixFactorizationTrainer.Options\n",
    "    {\n",
    "        MatrixColumnIndexColumnName = \"userIdEncoded\",\n",
    "        MatrixRowIndexColumnName = \"movieIdEncoded\", \n",
    "        LabelColumnName = \"Label\",\n",
    "        NumberOfIterations = 20,\n",
    "        ApproximationRank = 100\n",
    "    };\n",
    "\n",
    "    var trainerEstimator = estimator.Append(mlContext.Recommendation().Trainers.MatrixFactorization(options));\n",
    "\n",
    "    Console.WriteLine(\"=============== Treinando o modelo ===============\");\n",
    "    ITransformer model = trainerEstimator.Fit(trainingDataView);\n",
    "\n",
    "    return model;\n",
    "\n",
    "}"
   ]
  },
  {
   "cell_type": "code",
   "execution_count": 12,
   "id": "f3395787",
   "metadata": {},
   "outputs": [],
   "source": [
    "// Avaliação do modelo (testes)\n",
    "public static void EvaluateModel(MLContext mlContext, IDataView testDataView, ITransformer model)\n",
    "{\n",
    "    // Evaluate model on test data & print evaluation metrics\n",
    "    Console.WriteLine(\"=============== Avaliando o modelo ===============\");\n",
    "    var prediction = model.Transform(testDataView);\n",
    "\n",
    "    var metrics = mlContext.Regression.Evaluate(prediction, labelColumnName: \"Label\", scoreColumnName: \"Score\");\n",
    "\n",
    "    // A root of mean squared error (RMS ou RMSE - Root Mean Squared Error) é usada para medir as diferenças entre os valores previstos do modelo e os valores observados do conjunto de dados de teste. Tecnicamente, ela é a raiz quadrada da média dos quadrados dos erros. Quanto menor, melhor o modelo.\n",
    "    // R Squared (Ajute ao modelo) indica o quanto os dados se ajustam a um modelo. Varia de 0 a 1. Um valor de 0 significa que os dados são aleatórios ou não podem ser ajustados ao modelo. Um valor de 1 significa que o modelo corresponde exatamente aos dados. Você deseja que a pontuação R Squared esteja o mais próximo possível de 1.    \n",
    "    \n",
    "    Console.WriteLine(\"RMSE (Quadrado do erros - Quanto menor melhor) : \" + metrics.RootMeanSquaredError.ToString());\n",
    "    Console.WriteLine(\"RSquared (Ajuste ao modelo - Mais próx. de 1 melhor): \" + metrics.RSquared.ToString());\n",
    "}"
   ]
  },
  {
   "cell_type": "code",
   "execution_count": 13,
   "id": "9171d9a3",
   "metadata": {},
   "outputs": [],
   "source": [
    "public static void SaveModel(MLContext mlContext, DataViewSchema trainingDataViewSchema, ITransformer model)\n",
    "{\n",
    "    var modelPath = Path.Combine(Environment.CurrentDirectory, \"Data\", \"MovieRecommenderModel.zip\");\n",
    "\n",
    "    Console.WriteLine(\"=============== Salvando arquivo do modelo ===============\");\n",
    "    mlContext.Model.Save(model, trainingDataViewSchema, modelPath);\n",
    "}"
   ]
  },
  {
   "cell_type": "code",
   "execution_count": 14,
   "id": "61a000b3",
   "metadata": {},
   "outputs": [],
   "source": [
    "public static void UseModelForSinglePrediction(MLContext mlContext, ITransformer model)\n",
    "{\n",
    "    Console.WriteLine(\"=============== Realizando predição ===============\");\n",
    "    var predictionEngine = mlContext.Model.CreatePredictionEngine<MovieRating, MovieRatingPrediction>(model);\n",
    "\n",
    "    // Cria teste de entrada e faz uma simples predição\n",
    "    // Create test input & make single prediction\n",
    "    var testInput = new MovieRating { userId = 6, movieId = 10 };\n",
    "\n",
    "    var movieRatingPrediction = predictionEngine.Predict(testInput);\n",
    "\n",
    "    if (Math.Round(movieRatingPrediction.Score, 1) > 3.5)\n",
    "    {\n",
    "        Console.WriteLine(\"Filme \" + testInput.movieId + \" é recomendado para o usuário \" + testInput.userId);\n",
    "    }\n",
    "    else\n",
    "    {\n",
    "        Console.WriteLine(\"Filme \" + testInput.movieId + \" não é recomendado para o usuário \" + testInput.userId);\n",
    "    }\n",
    "}"
   ]
  },
  {
   "cell_type": "code",
   "execution_count": 16,
   "id": "2384c6a1",
   "metadata": {},
   "outputs": [
    {
     "name": "stdout",
     "output_type": "stream",
     "text": [
      "\n",
      "\n",
      "=============== Treinando o modelo ===============\n",
      "=============== Avaliando o modelo ===============\n",
      "RMSE (Quadrado do erros - Quanto menor melhor) : 0,9740768910727712\n",
      "RSquared (Ajuste ao modelo - Mais próx. de 1 melhor): 0,43592742042215304\n",
      "=============== Realizando predição ===============\n",
      "Filme 10 é recomendado para o usuário 6\n",
      "=============== Salvando arquivo do modelo ===============\n"
     ]
    }
   ],
   "source": [
    "// Programa principal\n",
    "\n",
    "MLContext mlContext = new MLContext();\n",
    "\n",
    "(IDataView trainingDataView, IDataView testDataView) = LoadData(mlContext);\n",
    "\n",
    "ITransformer model = BuildAndTrainModel(mlContext, trainingDataView);\n",
    "\n",
    "EvaluateModel(mlContext, testDataView, model);\n",
    "\n",
    "UseModelForSinglePrediction(mlContext, model);\n",
    "\n",
    "SaveModel(mlContext, trainingDataView.Schema, model);"
   ]
  },
  {
   "cell_type": "code",
   "execution_count": null,
   "id": "2793f7e7",
   "metadata": {},
   "outputs": [],
   "source": []
  }
 ],
 "metadata": {
  "kernelspec": {
   "display_name": ".NET (C#)",
   "language": "C#",
   "name": ".net-csharp"
  },
  "language_info": {
   "file_extension": ".cs",
   "mimetype": "text/x-csharp",
   "name": "C#",
   "pygments_lexer": "csharp",
   "version": "9.0"
  }
 },
 "nbformat": 4,
 "nbformat_minor": 5
}
